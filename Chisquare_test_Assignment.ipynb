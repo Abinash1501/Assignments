{
 "cells": [
  {
   "cell_type": "code",
   "execution_count": 21,
   "id": "02362911-bc40-4076-9bea-e1aad0ef09df",
   "metadata": {},
   "outputs": [
    {
     "name": "stdout",
     "output_type": "stream",
     "text": [
      "Observed Frequencies:\n",
      " [[ 50  70]\n",
      " [ 80 100]\n",
      " [ 60  90]\n",
      " [ 30  50]\n",
      " [ 20  50]]\n",
      "\n",
      "Expected Frequencies:\n",
      " [[ 48.  72.]\n",
      " [ 72. 108.]\n",
      " [ 60.  90.]\n",
      " [ 32.  48.]\n",
      " [ 28.  42.]]\n",
      "\n",
      "Chi-Square Statistic: 5.638227513227513\n",
      "Critical Value: 9.487729036781154\n",
      "\n",
      "Conclusion:\n",
      "Fail to reject the null hypothesis. There is no significant association between device type and customer satisfaction.\n"
     ]
    }
   ],
   "source": [
    "import numpy as np\n",
    "import scipy.stats as stats\n",
    "\n",
    "# Data from the contingency table\n",
    "observed = np.array([[50, 70],\n",
    "                     [80, 100],\n",
    "                     [60, 90],\n",
    "                     [30, 50],\n",
    "                     [20, 50]])\n",
    "\n",
    "# Step 1: Compute the expected frequencies\n",
    "# Total number of observations\n",
    "total = np.sum(observed)\n",
    "\n",
    "# Row and column totals\n",
    "row_totals = np.sum(observed, axis=1)\n",
    "col_totals = np.sum(observed, axis=0)\n",
    "\n",
    "# Calculate expected frequencies\n",
    "expected = np.outer(row_totals, col_totals) / total\n",
    "\n",
    "# Step 2: Compute the Chi-Square statistic\n",
    "chi_square_statistic = np.sum((observed - expected)**2 / expected)\n",
    "\n",
    "# Step 3: Degrees of freedom and critical value\n",
    "# Degrees of freedom = (number of rows - 1) * (number of columns - 1)\n",
    "df = (observed.shape[0] - 1) * (observed.shape[1] - 1)\n",
    "\n",
    "# Chi-square critical value at alpha = 0.05 and df = 4\n",
    "alpha = 0.05\n",
    "critical_value = stats.chi2.ppf(1 - alpha, df)\n",
    "\n",
    "# Step 4: Conclusion\n",
    "# Compare the Chi-Square statistic with the critical value\n",
    "reject_null = chi_square_statistic > critical_value\n",
    "\n",
    "# Displaying the results\n",
    "print(\"Observed Frequencies:\\n\", observed)\n",
    "print(\"\\nExpected Frequencies:\\n\", expected)\n",
    "print(\"\\nChi-Square Statistic:\", chi_square_statistic)\n",
    "print(\"Critical Value:\", critical_value)\n",
    "print(\"\\nConclusion:\")\n",
    "if reject_null:\n",
    "    print(\"Reject the null hypothesis. There is an association between device type and customer satisfaction.\")\n",
    "else:\n",
    "    print(\"Fail to reject the null hypothesis. There is no significant association between device type and customer satisfaction.\")\n",
    "\n"
   ]
  },
  {
   "cell_type": "code",
   "execution_count": null,
   "id": "31e8f03e-5119-49f3-bdd9-bf7715dff3a2",
   "metadata": {},
   "outputs": [],
   "source": []
  }
 ],
 "metadata": {
  "kernelspec": {
   "display_name": "Python [conda env:base] *",
   "language": "python",
   "name": "conda-base-py"
  },
  "language_info": {
   "codemirror_mode": {
    "name": "ipython",
    "version": 3
   },
   "file_extension": ".py",
   "mimetype": "text/x-python",
   "name": "python",
   "nbconvert_exporter": "python",
   "pygments_lexer": "ipython3",
   "version": "3.12.3"
  }
 },
 "nbformat": 4,
 "nbformat_minor": 5
}
