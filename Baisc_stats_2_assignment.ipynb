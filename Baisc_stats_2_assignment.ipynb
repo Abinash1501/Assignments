{
 "cells": [
  {
   "cell_type": "markdown",
   "id": "c84be25b-4489-4fb6-accc-31c43bec8d07",
   "metadata": {},
   "source": [
    " **a. 99% Confidence Interval using Sample Standard Deviation (t-distribution)**"
   ]
  },
  {
   "cell_type": "code",
   "execution_count": 4,
   "id": "8f4841d0-49ad-499f-a4aa-50b612fea5ff",
   "metadata": {},
   "outputs": [
    {
     "name": "stdout",
     "output_type": "stream",
     "text": [
      "99% CI using sample std deviation: (1.090, 1.387)\n"
     ]
    }
   ],
   "source": [
    "import numpy as np\n",
    "import scipy.stats as stats\n",
    "data = [1.13, 1.55, 1.43, 0.92, 1.25, 1.36, 1.32, 0.85, 1.07, 1.48, 1.20, 1.33, 1.18, 1.22, 1.29]\n",
    "n = len(data)\n",
    "mean = np.mean(data)\n",
    "std = np.std(data, ddof=1)  # sample std deviation\n",
    "t_crit = stats.t.ppf(1 - 0.005, df=n-1)\n",
    "margin_error = t_crit * (std / np.sqrt(n))\n",
    "ci_lower = mean - margin_error\n",
    "ci_upper = mean + margin_error\n",
    "print(f\"99% CI using sample std deviation: ({ci_lower:.3f}, {ci_upper:.3f})\")"
   ]
  },
  {
   "cell_type": "markdown",
   "id": "74dde67c-a997-4737-a3c7-f326b6b44e77",
   "metadata": {},
   "source": [
    "**b. 99% Confidence Interval using Known Population Standard Deviation (z-distribution)**"
   ]
  },
  {
   "cell_type": "code",
   "execution_count": 9,
   "id": "0f2aae1c-4903-4ff6-913f-2913bb2906d1",
   "metadata": {},
   "outputs": [
    {
     "name": "stdout",
     "output_type": "stream",
     "text": [
      "99% CI using population std deviation: (1.106, 1.372)\n"
     ]
    }
   ],
   "source": [
    "pop_std = 0.2\n",
    "z_crit = stats.norm.ppf(1 - 0.005)\n",
    "margin_error_z = z_crit * (pop_std / np.sqrt(n))\n",
    "ci_lower_z = mean - margin_error_z\n",
    "ci_upper_z = mean + margin_error_z\n",
    "print(f\"99% CI using population std deviation: ({ci_lower_z:.3f}, {ci_upper_z:.3f})\")"
   ]
  },
  {
   "cell_type": "code",
   "execution_count": null,
   "id": "cf17eb7c-7efc-4787-a256-4fb82600c2cb",
   "metadata": {},
   "outputs": [],
   "source": []
  }
 ],
 "metadata": {
  "kernelspec": {
   "display_name": "Python [conda env:base] *",
   "language": "python",
   "name": "conda-base-py"
  },
  "language_info": {
   "codemirror_mode": {
    "name": "ipython",
    "version": 3
   },
   "file_extension": ".py",
   "mimetype": "text/x-python",
   "name": "python",
   "nbconvert_exporter": "python",
   "pygments_lexer": "ipython3",
   "version": "3.12.3"
  }
 },
 "nbformat": 4,
 "nbformat_minor": 5
}
