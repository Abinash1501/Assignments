{
 "cells": [
  {
   "cell_type": "markdown",
   "id": "fb4764dd-5bd3-4d44-8a5e-28c2d07c33ec",
   "metadata": {},
   "source": [
    "# 1. Data Exploration and Preprocessing"
   ]
  },
  {
   "cell_type": "code",
   "execution_count": 34,
   "id": "bb04a86c-2382-49d0-bc50-32a03aafed14",
   "metadata": {},
   "outputs": [
    {
     "name": "stdout",
     "output_type": "stream",
     "text": [
      "<class 'pandas.core.frame.DataFrame'>\n",
      "RangeIndex: 2000 entries, 0 to 1999\n",
      "Data columns (total 2 columns):\n",
      " #   Column  Non-Null Count  Dtype \n",
      "---  ------  --------------  ----- \n",
      " 0   Data    2000 non-null   object\n",
      " 1   Labels  2000 non-null   object\n",
      "dtypes: object(2)\n",
      "memory usage: 31.4+ KB\n",
      "None\n",
      "                                                Data       Labels\n",
      "0  Path: cantaloupe.srv.cs.cmu.edu!magnesium.club...  alt.atheism\n",
      "1  Newsgroups: alt.atheism\\nPath: cantaloupe.srv....  alt.atheism\n",
      "2  Path: cantaloupe.srv.cs.cmu.edu!das-news.harva...  alt.atheism\n",
      "3  Path: cantaloupe.srv.cs.cmu.edu!magnesium.club...  alt.atheism\n",
      "4  Xref: cantaloupe.srv.cs.cmu.edu alt.atheism:53...  alt.atheism\n",
      "0    path : cantaloupe.srv.cs.cmu.edu ! magnesium.c...\n",
      "1    newsgroups : alt.atheism path : cantaloupe.srv...\n",
      "2    path : cantaloupe.srv.cs.cmu.edu ! das-news.ha...\n",
      "3    path : cantaloupe.srv.cs.cmu.edu ! magnesium.c...\n",
      "4    xref : cantaloupe.srv.cs.cmu.edu alt.atheism:5...\n",
      "Name: cleaned_text, dtype: object\n"
     ]
    }
   ],
   "source": [
    "import pandas as pd\n",
    "import string\n",
    "from sklearn.model_selection import train_test_split\n",
    "from sklearn.feature_extraction.text import TfidfVectorizer\n",
    "from nltk.corpus import stopwords\n",
    "from nltk.tokenize import word_tokenize\n",
    "\n",
    "# Load dataset\n",
    "df = pd.read_csv(r\"D:\\Excelr\\Assignments\\Nlp and Naive Bayes\\blogs.csv\")\n",
    "\n",
    "# Display basic information about the dataset\n",
    "print(df.info())\n",
    "print(df.head())\n",
    "\n",
    "# Clean the text data (remove punctuation, convert to lowercase)\n",
    "def preprocess_text(text):\n",
    "    # Remove punctuation\n",
    "    text = text.translate(str.maketrans(\"\", \"\", string.punctuation))\n",
    "    # Convert to lowercase\n",
    "    text = text.lower()\n",
    "    # Tokenize\n",
    "    tokens = word_tokenize(text)\n",
    "    # Remove stopwords\n",
    "    stop_words = set(stopwords.words(\"english\"))\n",
    "    tokens = [word for word in tokens if word not in stop_words]\n",
    "    return \" \".join(tokens)\n",
    "    \n",
    "from nltk.tokenize import word_tokenize\n",
    "\n",
    "# Apply preprocessing function to your 'Data' column\n",
    "def preprocess_text(text):\n",
    "    text = text.lower()\n",
    "    # Use the correct tokenizer explicitly\n",
    "    tokens = word_tokenize(text)\n",
    "    # Remove stopwords, etc.\n",
    "    return \" \".join(tokens)\n",
    "\n",
    "df['cleaned_text'] = df['Data'].apply(preprocess_text)\n",
    "# Apply preprocessing to the 'Data' column\n",
    "df['cleaned_text'] = df['Data'].apply(preprocess_text)\n",
    "\n",
    "# Check cleaned text\n",
    "print(df['cleaned_text'].head())\n",
    "\n",
    "# Feature extraction using TF-IDF\n",
    "vectorizer = TfidfVectorizer()\n",
    "X = vectorizer.fit_transform(df['cleaned_text'])\n",
    "y = df['Labels']\n"
   ]
  },
  {
   "cell_type": "markdown",
   "id": "dae8138b-6b73-4663-974b-5070e4c839a1",
   "metadata": {},
   "source": [
    "# 2. Naive Bayes Model for Text Classification"
   ]
  },
  {
   "cell_type": "code",
   "execution_count": 37,
   "id": "a4ed4c27-46b8-4ca6-af7d-b31d3de65879",
   "metadata": {},
   "outputs": [
    {
     "name": "stdout",
     "output_type": "stream",
     "text": [
      "Accuracy: 0.665\n",
      "Classification Report:\n",
      "                           precision    recall  f1-score   support\n",
      "\n",
      "             alt.atheism       0.38      0.96      0.54        24\n",
      "           comp.graphics       0.86      0.64      0.73        28\n",
      " comp.os.ms-windows.misc       0.88      0.85      0.86        33\n",
      "comp.sys.ibm.pc.hardware       0.80      0.56      0.66        36\n",
      "   comp.sys.mac.hardware       0.93      0.39      0.55        36\n",
      "          comp.windows.x       1.00      0.14      0.24        36\n",
      "            misc.forsale       0.76      0.79      0.78        24\n",
      "               rec.autos       0.89      0.81      0.85        31\n",
      "         rec.motorcycles       0.62      0.91      0.74        22\n",
      "      rec.sport.baseball       0.95      0.59      0.73        32\n",
      "        rec.sport.hockey       0.60      0.96      0.74        25\n",
      "               sci.crypt       0.36      1.00      0.53        24\n",
      "         sci.electronics       0.74      0.63      0.68        27\n",
      "                 sci.med       0.94      0.50      0.65        30\n",
      "               sci.space       0.96      0.78      0.86        32\n",
      "  soc.religion.christian       0.61      1.00      0.76        30\n",
      "      talk.politics.guns       0.95      0.58      0.72        36\n",
      "   talk.politics.mideast       0.78      0.89      0.83        28\n",
      "      talk.politics.misc       0.40      0.82      0.54        28\n",
      "      talk.religion.misc       0.80      0.11      0.19        38\n",
      "\n",
      "                accuracy                           0.67       600\n",
      "               macro avg       0.76      0.70      0.66       600\n",
      "            weighted avg       0.78      0.67      0.65       600\n",
      "\n"
     ]
    }
   ],
   "source": [
    "from sklearn.naive_bayes import MultinomialNB\n",
    "from sklearn.metrics import accuracy_score, classification_report\n",
    "\n",
    "# Split the data into training and test sets\n",
    "X_train, X_test, y_train, y_test = train_test_split(X, y, test_size=0.3, random_state=42)\n",
    "\n",
    "# Train Naive Bayes model\n",
    "nb_model = MultinomialNB()\n",
    "nb_model.fit(X_train, y_train)\n",
    "\n",
    "# Predict on test set\n",
    "y_pred = nb_model.predict(X_test)\n",
    "\n",
    "# Evaluate model\n",
    "print(\"Accuracy:\", accuracy_score(y_test, y_pred))\n",
    "print(\"Classification Report:\\n\", classification_report(y_test, y_pred))"
   ]
  },
  {
   "cell_type": "markdown",
   "id": "05f5a856-4aca-4b71-ba6a-4b808ef87d76",
   "metadata": {},
   "source": [
    "# 3. Sentiment Analysis"
   ]
  },
  {
   "cell_type": "code",
   "execution_count": 44,
   "id": "2d0987c6-7818-45ee-be76-45e72934a449",
   "metadata": {},
   "outputs": [
    {
     "name": "stdout",
     "output_type": "stream",
     "text": [
      "sentiment\n",
      "positive    1323\n",
      "negative     648\n",
      "neutral       29\n",
      "Name: count, dtype: int64\n",
      "sentiment                 negative  neutral  positive\n",
      "Labels                                               \n",
      "alt.atheism                   43.0      1.0      56.0\n",
      "comp.graphics                 15.0      2.0      83.0\n",
      "comp.os.ms-windows.misc       24.0      2.0      74.0\n",
      "comp.sys.ibm.pc.hardware      22.0      0.0      78.0\n",
      "comp.sys.mac.hardware         26.0      3.0      71.0\n",
      "comp.windows.x                21.0      2.0      77.0\n",
      "misc.forsale                  10.0      8.0      82.0\n",
      "rec.autos                     28.0      1.0      71.0\n",
      "rec.motorcycles               31.0      1.0      68.0\n",
      "rec.sport.baseball            24.0      1.0      75.0\n",
      "rec.sport.hockey              31.0      1.0      68.0\n",
      "sci.crypt                     29.0      0.0      71.0\n",
      "sci.electronics               21.0      2.0      77.0\n",
      "sci.med                       34.0      1.0      65.0\n",
      "sci.space                     34.0      2.0      64.0\n",
      "soc.religion.christian        27.0      0.0      73.0\n",
      "talk.politics.guns            67.0      2.0      31.0\n",
      "talk.politics.mideast         68.0      0.0      32.0\n",
      "talk.politics.misc            55.0      0.0      45.0\n",
      "talk.religion.misc            38.0      0.0      62.0\n"
     ]
    }
   ],
   "source": [
    "from nltk.sentiment.vader import SentimentIntensityAnalyzer\n",
    "\n",
    "# Initialize VADER sentiment analyzer\n",
    "sia = SentimentIntensityAnalyzer()\n",
    "\n",
    "# Function to categorize sentiment\n",
    "def get_sentiment(text):\n",
    "    sentiment_score = sia.polarity_scores(text)\n",
    "    if sentiment_score['compound'] >= 0.05:\n",
    "        return 'positive'\n",
    "    elif sentiment_score['compound'] <= -0.05:\n",
    "        return 'negative'\n",
    "    else:\n",
    "        return 'neutral'\n",
    "\n",
    "# Apply sentiment analysis to the 'cleaned_text' column\n",
    "df['sentiment'] = df['cleaned_text'].apply(get_sentiment)\n",
    "\n",
    "# Display sentiment distribution\n",
    "print(df['sentiment'].value_counts())\n",
    "\n",
    "# Optionally, analyze sentiment per category\n",
    "sentiment_by_category = df.groupby('Labels')['sentiment'].value_counts().unstack().fillna(0)\n",
    "print(sentiment_by_category)"
   ]
  },
  {
   "cell_type": "markdown",
   "id": "5e7570e0-7e58-492b-b22f-c0b5689384dc",
   "metadata": {},
   "source": [
    "# 4. Evaluation"
   ]
  },
  {
   "cell_type": "code",
   "execution_count": 47,
   "id": "75f849e6-4719-40ce-a7cb-77895f8206cd",
   "metadata": {},
   "outputs": [
    {
     "name": "stdout",
     "output_type": "stream",
     "text": [
      "Labels                    sentiment\n",
      "alt.atheism               positive     56\n",
      "                          negative     43\n",
      "                          neutral       1\n",
      "comp.graphics             positive     83\n",
      "                          negative     15\n",
      "                          neutral       2\n",
      "comp.os.ms-windows.misc   positive     74\n",
      "                          negative     24\n",
      "                          neutral       2\n",
      "comp.sys.ibm.pc.hardware  positive     78\n",
      "                          negative     22\n",
      "comp.sys.mac.hardware     positive     71\n",
      "                          negative     26\n",
      "                          neutral       3\n",
      "comp.windows.x            positive     77\n",
      "                          negative     21\n",
      "                          neutral       2\n",
      "misc.forsale              positive     82\n",
      "                          negative     10\n",
      "                          neutral       8\n",
      "rec.autos                 positive     71\n",
      "                          negative     28\n",
      "                          neutral       1\n",
      "rec.motorcycles           positive     68\n",
      "                          negative     31\n",
      "                          neutral       1\n",
      "rec.sport.baseball        positive     75\n",
      "                          negative     24\n",
      "                          neutral       1\n",
      "rec.sport.hockey          positive     68\n",
      "                          negative     31\n",
      "                          neutral       1\n",
      "sci.crypt                 positive     71\n",
      "                          negative     29\n",
      "sci.electronics           positive     77\n",
      "                          negative     21\n",
      "                          neutral       2\n",
      "sci.med                   positive     65\n",
      "                          negative     34\n",
      "                          neutral       1\n",
      "sci.space                 positive     64\n",
      "                          negative     34\n",
      "                          neutral       2\n",
      "soc.religion.christian    positive     73\n",
      "                          negative     27\n",
      "talk.politics.guns        negative     67\n",
      "                          positive     31\n",
      "                          neutral       2\n",
      "talk.politics.mideast     negative     68\n",
      "                          positive     32\n",
      "talk.politics.misc        negative     55\n",
      "                          positive     45\n",
      "talk.religion.misc        positive     62\n",
      "                          negative     38\n",
      "Name: count, dtype: int64\n"
     ]
    }
   ],
   "source": [
    "# Sentiment analysis evaluation (e.g., distribution by category)\n",
    "print(df.groupby('Labels')['sentiment'].value_counts())\n"
   ]
  },
  {
   "cell_type": "code",
   "execution_count": null,
   "id": "f0806d58-dace-436c-a194-244a25030daa",
   "metadata": {},
   "outputs": [],
   "source": []
  }
 ],
 "metadata": {
  "kernelspec": {
   "display_name": "Python [conda env:base] *",
   "language": "python",
   "name": "conda-base-py"
  },
  "language_info": {
   "codemirror_mode": {
    "name": "ipython",
    "version": 3
   },
   "file_extension": ".py",
   "mimetype": "text/x-python",
   "name": "python",
   "nbconvert_exporter": "python",
   "pygments_lexer": "ipython3",
   "version": "3.12.3"
  }
 },
 "nbformat": 4,
 "nbformat_minor": 5
}
