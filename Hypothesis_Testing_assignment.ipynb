{
 "cells": [
  {
   "cell_type": "markdown",
   "id": "ff8db6d6-2e90-4496-9228-dd73da39c024",
   "metadata": {},
   "source": [
    "# 1. State the Hypotheses [cite: 1, 3, 4]"
   ]
  },
  {
   "cell_type": "code",
   "execution_count": 6,
   "id": "57d594fa-3faf-429a-805f-f84a41f5b3e0",
   "metadata": {},
   "outputs": [],
   "source": [
    "import scipy.stats as st\n",
    "\n",
    "# Null Hypothesis (H0): The weekly operating costs are as given by the model W = $1,000 + $5X.\n",
    "# Alternative Hypothesis (Ha): The weekly operating costs are higher than the model suggests."
   ]
  },
  {
   "cell_type": "markdown",
   "id": "c125f6e9-982e-4262-820d-1e4977320f44",
   "metadata": {},
   "source": [
    "# 2. Calculate the Test Statistic [cite: 2, 5, 6]"
   ]
  },
  {
   "cell_type": "code",
   "execution_count": 9,
   "id": "25a457ef-d9b4-469f-8d37-690c1a09b523",
   "metadata": {},
   "outputs": [
    {
     "name": "stdout",
     "output_type": "stream",
     "text": [
      "Calculated Test Statistic (t): -38.0\n"
     ]
    }
   ],
   "source": [
    "x_bar = 3050  # sample mean weekly cost\n",
    "X_mean = 600  # mean units produced in a week\n",
    "W_mean = 1000 + 5 * X_mean  # theoretical mean weekly cost\n",
    "sigma_X = 25  # standard deviation of units produced\n",
    "sigma = 5 * sigma_X  # standard deviation of weekly cost\n",
    "n = 25  # sample size\n",
    "\n",
    "t = (x_bar - W_mean) / (sigma / (n**0.5))\n",
    "\n",
    "print(f\"Calculated Test Statistic (t): {t}\")"
   ]
  },
  {
   "cell_type": "markdown",
   "id": "4527ac42-dec2-4318-b430-03fcf601aa34",
   "metadata": {},
   "source": [
    "# 3. Determine the Critical Value [cite: 6, 7]"
   ]
  },
  {
   "cell_type": "code",
   "execution_count": 12,
   "id": "27d0ad46-8709-41ba-9e6b-04472c8fe8b0",
   "metadata": {},
   "outputs": [
    {
     "name": "stdout",
     "output_type": "stream",
     "text": [
      "Critical Value (Z): 1.6448536269514722\n"
     ]
    }
   ],
   "source": [
    "alpha = 0.05  # significance level\n",
    "# Since it's a one-tailed test (higher than), we find the critical Z value for alpha = 0.05\n",
    "z_critical = st.norm.ppf(1 - alpha)\n",
    "\n",
    "print(f\"Critical Value (Z): {z_critical}\")"
   ]
  },
  {
   "cell_type": "markdown",
   "id": "6d8cc1b4-e4dc-408d-b961-3658d62185ec",
   "metadata": {},
   "source": [
    "# 4. Make a Decision [cite: 7, 8]"
   ]
  },
  {
   "cell_type": "code",
   "execution_count": 15,
   "id": "66717a70-c6be-4c2d-869f-aeac92dbe494",
   "metadata": {},
   "outputs": [
    {
     "name": "stdout",
     "output_type": "stream",
     "text": [
      "Decision: Fail to reject the null hypothesis.\n"
     ]
    }
   ],
   "source": [
    "if t > z_critical:\n",
    "    decision = \"Reject the null hypothesis.\"\n",
    "else:\n",
    "    decision = \"Fail to reject the null hypothesis.\"\n",
    "\n",
    "print(f\"Decision: {decision}\")"
   ]
  },
  {
   "cell_type": "markdown",
   "id": "c76156c8-8809-4660-a844-140da69a383f",
   "metadata": {},
   "source": [
    "# 5. Conclusion [cite: 8, 9, 10]"
   ]
  },
  {
   "cell_type": "code",
   "execution_count": 18,
   "id": "1ac8b0b2-872b-4a42-a243-f26c2177cdf2",
   "metadata": {},
   "outputs": [
    {
     "name": "stdout",
     "output_type": "stream",
     "text": [
      "Conclusion: There is not enough evidence to support the restaurant owners' claim that the weekly operating costs are higher than the model suggests.\n"
     ]
    }
   ],
   "source": [
    "if decision == \"Reject the null hypothesis.\":\n",
    "    conclusion = \"There is strong evidence to support the restaurant owners' claim that the weekly operating costs are higher than the model suggests.\"\n",
    "else:\n",
    "    conclusion = \"There is not enough evidence to support the restaurant owners' claim that the weekly operating costs are higher than the model suggests.\"\n",
    "\n",
    "print(f\"Conclusion: {conclusion}\")"
   ]
  }
 ],
 "metadata": {
  "kernelspec": {
   "display_name": "Python [conda env:base] *",
   "language": "python",
   "name": "conda-base-py"
  },
  "language_info": {
   "codemirror_mode": {
    "name": "ipython",
    "version": 3
   },
   "file_extension": ".py",
   "mimetype": "text/x-python",
   "name": "python",
   "nbconvert_exporter": "python",
   "pygments_lexer": "ipython3",
   "version": "3.12.3"
  }
 },
 "nbformat": 4,
 "nbformat_minor": 5
}
