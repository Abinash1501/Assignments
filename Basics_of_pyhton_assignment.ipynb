{
 "cells": [
  {
   "cell_type": "markdown",
   "id": "75204b79-f512-4c72-9a2b-caf04978b3e8",
   "metadata": {},
   "source": [
    "**Exercise 1**"
   ]
  },
  {
   "cell_type": "code",
   "execution_count": 2,
   "id": "3147b48c-a000-4c61-9c5c-c60739df02b8",
   "metadata": {},
   "outputs": [
    {
     "name": "stdin",
     "output_type": "stream",
     "text": [
      "Enter a number:  5\n"
     ]
    },
    {
     "name": "stdout",
     "output_type": "stream",
     "text": [
      "5 is a prime number.\n"
     ]
    }
   ],
   "source": [
    "def is_prime(number):\n",
    "  \"\"\"\n",
    "  Checks if a given number is prime.\n",
    "\n",
    "  Args:\n",
    "    number: An integer.\n",
    "\n",
    "  Returns:\n",
    "    True if the number is prime, False otherwise.\n",
    "  \"\"\"\n",
    "  if number <= 1:\n",
    "    return False\n",
    "  if number <= 3:\n",
    "    return True\n",
    "  if number % 2 == 0 or number % 3 == 0:\n",
    "    return False\n",
    "  i = 5\n",
    "  while i * i <= number:\n",
    "    if number % i == 0 or number % (i + 2) == 0:\n",
    "      return False\n",
    "    i += 6\n",
    "  return True\n",
    "\n",
    "# Get input from the user\n",
    "num = int(input(\"Enter a number: \"))\n",
    "\n",
    "# Check if the number is prime and print the result\n",
    "if is_prime(num):\n",
    "  print(f\"{num} is a prime number.\")\n",
    "else:\n",
    "  print(f\"{num} is not a prime number.\")"
   ]
  },
  {
   "cell_type": "markdown",
   "id": "e86d2cf3-551c-4d5c-aeb8-59acb107b9ab",
   "metadata": {},
   "source": [
    "**Exercise 2**"
   ]
  },
  {
   "cell_type": "code",
   "execution_count": 4,
   "id": "d5f1e406-2cd3-4f48-9f55-e19362783150",
   "metadata": {},
   "outputs": [
    {
     "name": "stdin",
     "output_type": "stream",
     "text": [
      "What is the product of 8 and 3?  15\n"
     ]
    },
    {
     "name": "stdout",
     "output_type": "stream",
     "text": [
      "Incorrect. The correct answer is 24.\n"
     ]
    }
   ],
   "source": [
    "import random\n",
    "\n",
    "# Generate two random numbers\n",
    "num1 = random.randint(1, 10)  # You can adjust the range as needed\n",
    "num2 = random.randint(1, 10)\n",
    "\n",
    "# Calculate the correct product\n",
    "correct_product = num1 * num2\n",
    "\n",
    "# Get the user's input\n",
    "user_answer = int(input(f\"What is the product of {num1} and {num2}? \"))\n",
    "\n",
    "# Check if the user's answer is correct and display the result\n",
    "if user_answer == correct_product:\n",
    "    print(\"Correct!\")\n",
    "else:\n",
    "    print(f\"Incorrect. The correct answer is {correct_product}.\")"
   ]
  },
  {
   "cell_type": "markdown",
   "id": "1be17c38-0d52-429d-8749-3fe0d1cf506c",
   "metadata": {},
   "source": [
    "**Exercise 3**"
   ]
  },
  {
   "cell_type": "code",
   "execution_count": 13,
   "id": "f91deff3-9049-4f48-9eaa-f8bcdcebbac9",
   "metadata": {},
   "outputs": [
    {
     "name": "stdout",
     "output_type": "stream",
     "text": [
      "Squares of even numbers between 100 and 200:\n",
      "The square of 100 is 10000\n",
      "The square of 102 is 10404\n",
      "The square of 104 is 10816\n",
      "The square of 106 is 11236\n",
      "The square of 108 is 11664\n",
      "The square of 110 is 12100\n",
      "The square of 112 is 12544\n",
      "The square of 114 is 12996\n",
      "The square of 116 is 13456\n",
      "The square of 118 is 13924\n",
      "The square of 120 is 14400\n",
      "The square of 122 is 14884\n",
      "The square of 124 is 15376\n",
      "The square of 126 is 15876\n",
      "The square of 128 is 16384\n",
      "The square of 130 is 16900\n",
      "The square of 132 is 17424\n",
      "The square of 134 is 17956\n",
      "The square of 136 is 18496\n",
      "The square of 138 is 19044\n",
      "The square of 140 is 19600\n",
      "The square of 142 is 20164\n",
      "The square of 144 is 20736\n",
      "The square of 146 is 21316\n",
      "The square of 148 is 21904\n",
      "The square of 150 is 22500\n",
      "The square of 152 is 23104\n",
      "The square of 154 is 23716\n",
      "The square of 156 is 24336\n",
      "The square of 158 is 24964\n",
      "The square of 160 is 25600\n",
      "The square of 162 is 26244\n",
      "The square of 164 is 26896\n",
      "The square of 166 is 27556\n",
      "The square of 168 is 28224\n",
      "The square of 170 is 28900\n",
      "The square of 172 is 29584\n",
      "The square of 174 is 30276\n",
      "The square of 176 is 30976\n",
      "The square of 178 is 31684\n",
      "The square of 180 is 32400\n",
      "The square of 182 is 33124\n",
      "The square of 184 is 33856\n",
      "The square of 186 is 34596\n",
      "The square of 188 is 35344\n",
      "The square of 190 is 36100\n",
      "The square of 192 is 36864\n",
      "The square of 194 is 37636\n",
      "The square of 196 is 38416\n",
      "The square of 198 is 39204\n",
      "The square of 200 is 40000\n"
     ]
    }
   ],
   "source": [
    "# This script will print the squares of all even numbers between 100 and 200 (inclusive).\n",
    "\n",
    "print(\"Squares of even numbers between 100 and 200:\")\n",
    "for number in range(100, 201):\n",
    "  if number % 2 == 0:  # Check if the number is even\n",
    "    square = number * number\n",
    "    print(f\"The square of {number} is {square}\")\n",
    "\n",
    "# If you wanted to do odd numbers instead, you would change the 'if' condition to:\n",
    "# if number % 2 != 0:\n"
   ]
  },
  {
   "cell_type": "markdown",
   "id": "3c578c7e-b1b0-41c6-8317-f00944219f8e",
   "metadata": {},
   "source": [
    "**Exercise 4**"
   ]
  },
  {
   "cell_type": "code",
   "execution_count": 16,
   "id": "9376f354-be6c-48dd-9c24-addf7bb0305f",
   "metadata": {},
   "outputs": [
    {
     "name": "stdout",
     "output_type": "stream",
     "text": [
      "'This': 2\n",
      "'is': 1\n",
      "'a': 1\n",
      "'sample': 1\n",
      "'text.': 1\n",
      "'text': 1\n",
      "'will': 1\n",
      "'be': 1\n",
      "'used': 1\n",
      "'to': 1\n",
      "'demonstrate': 1\n",
      "'the': 1\n",
      "'word': 1\n",
      "'counter.': 1\n",
      "\n",
      "Is 'racecar' a palindrome? True\n",
      "Is 'hello' a palindrome? False\n"
     ]
    }
   ],
   "source": [
    "import string\n",
    "\n",
    "def count_words(text):\n",
    "    \"\"\"\n",
    "    Counts the occurrences of each word in a given text.\n",
    "\n",
    "    Args:\n",
    "        text: The input text string.\n",
    "\n",
    "    Returns:\n",
    "        A dictionary where keys are unique words (case-sensitive and with punctuation)\n",
    "        and values are their corresponding counts in the text.\n",
    "    \"\"\"\n",
    "    # Remove leading and trailing whitespace\n",
    "    text = text.strip()\n",
    "\n",
    "    # Split the text into words\n",
    "    words = text.split()\n",
    "\n",
    "    # Count the occurrences of each word\n",
    "    word_counts = {}\n",
    "    for word in words:\n",
    "        if word in word_counts:\n",
    "            word_counts[word] += 1\n",
    "        else:\n",
    "            word_counts[word] = 1\n",
    "    return word_counts\n",
    "\n",
    "def is_palindrome(text):\n",
    "    \"\"\"\n",
    "    Checks if a string is a palindrome.\n",
    "\n",
    "    Args:\n",
    "        text: The input string.\n",
    "\n",
    "    Returns:\n",
    "        True if the string is a palindrome, False otherwise.\n",
    "        A palindrome is a word, phrase, number, or other sequence of characters\n",
    "        that reads the same forward and backward, ignoring spaces, punctuation,\n",
    "        and capitalization.\n",
    "    \"\"\"\n",
    "    # Remove spaces and punctuation, and convert to lowercase\n",
    "    processed_text = ''.join(c for c in text if c.isalnum()).lower()\n",
    "    # Check if the processed string is equal to its reverse\n",
    "    return processed_text == processed_text[::-1]\n",
    "\n",
    "# Example usage:\n",
    "input_text = \"This is a sample text. This text will be used to demonstrate the word counter.\"\n",
    "word_counts = count_words(input_text)\n",
    "\n",
    "# Print the word counts in the desired format\n",
    "for word, count in word_counts.items():\n",
    "    print(f\"'{word}': {count}\")\n",
    "\n",
    "# Example usage for is_palindrome:\n",
    "palindrome_test_string = \"racecar\"\n",
    "result = is_palindrome(palindrome_test_string)\n",
    "print(f\"\\nIs '{palindrome_test_string}' a palindrome? {result}\")  # Output: True\n",
    "\n",
    "non_palindrome_test_string = \"hello\"\n",
    "result = is_palindrome(non_palindrome_test_string)\n",
    "print(f\"Is '{non_palindrome_test_string}' a palindrome? {result}\")  # Output: False\n",
    "\n"
   ]
  },
  {
   "cell_type": "markdown",
   "id": "4ae3a242-e244-4e3b-baec-5e944e2eef12",
   "metadata": {},
   "source": [
    "**Exercise 5**"
   ]
  },
  {
   "cell_type": "code",
   "execution_count": 19,
   "id": "06051892-ebc8-48dd-a37f-a0d331d70177",
   "metadata": {},
   "outputs": [
    {
     "name": "stdout",
     "output_type": "stream",
     "text": [
      "'This': 2\n",
      "'is': 1\n",
      "'a': 1\n",
      "'sample': 1\n",
      "'text.': 1\n",
      "'text': 1\n",
      "'will': 1\n",
      "'be': 1\n",
      "'used': 1\n",
      "'to': 1\n",
      "'demonstrate': 1\n",
      "'the': 1\n",
      "'word': 1\n",
      "'counter.': 1\n",
      "\n",
      "Is 'racecar' a palindrome? True\n",
      "Is 'hello' a palindrome? False\n"
     ]
    }
   ],
   "source": [
    "import string\n",
    "\n",
    "def count_words(text):\n",
    "    \"\"\"\n",
    "    Counts the occurrences of each word in a given text.\n",
    "\n",
    "    Args:\n",
    "        text: The input text string.\n",
    "\n",
    "    Returns:\n",
    "        A dictionary where keys are unique words (case-sensitive and with punctuation)\n",
    "        and values are their corresponding counts in the text.\n",
    "    \"\"\"\n",
    "    # Remove leading and trailing whitespace\n",
    "    text = text.strip()\n",
    "\n",
    "    # Split the text into words\n",
    "    words = text.split()\n",
    "\n",
    "    # Count the occurrences of each word\n",
    "    word_counts = {}\n",
    "    for word in words:\n",
    "        if word in word_counts:\n",
    "            word_counts[word] += 1\n",
    "        else:\n",
    "            word_counts[word] = 1\n",
    "    return word_counts\n",
    "\n",
    "def is_palindrome(text):\n",
    "    \"\"\"\n",
    "    Checks if a string is a palindrome.\n",
    "\n",
    "    Args:\n",
    "        text: The input string.\n",
    "\n",
    "    Returns:\n",
    "        True if the string is a palindrome, False otherwise.\n",
    "        A palindrome is a word, phrase, number, or other sequence of characters\n",
    "        that reads the same forward and backward, ignoring spaces, punctuation,\n",
    "        and capitalization.\n",
    "    \"\"\"\n",
    "    # Remove spaces and punctuation, and convert to lowercase\n",
    "    processed_text = ''.join(c for c in text if c.isalnum()).lower()\n",
    "    # Check if the processed string is equal to its reverse\n",
    "    return processed_text == processed_text[::-1]\n",
    "\n",
    "# Example usage:\n",
    "input_text = \"This is a sample text. This text will be used to demonstrate the word counter.\"\n",
    "word_counts = count_words(input_text)\n",
    "\n",
    "# Print the word counts in the desired format\n",
    "for word, count in word_counts.items():\n",
    "    print(f\"'{word}': {count}\")\n",
    "\n",
    "# Example usage for is_palindrome:\n",
    "palindrome_test_string = \"racecar\"\n",
    "result = is_palindrome(palindrome_test_string)\n",
    "print(f\"\\nIs '{palindrome_test_string}' a palindrome? {result}\")  # Output: True\n",
    "\n",
    "non_palindrome_test_string = \"hello\"\n",
    "result = is_palindrome(non_palindrome_test_string)\n",
    "print(f\"Is '{non_palindrome_test_string}' a palindrome? {result}\")  # Output: False"
   ]
  },
  {
   "cell_type": "code",
   "execution_count": null,
   "id": "bd338f49-d553-492e-8e92-55a46fdadbf4",
   "metadata": {},
   "outputs": [],
   "source": []
  },
  {
   "cell_type": "code",
   "execution_count": null,
   "id": "84a537bc-5e38-4c51-942a-d2dfe0d65c19",
   "metadata": {},
   "outputs": [],
   "source": []
  }
 ],
 "metadata": {
  "kernelspec": {
   "display_name": "Python [conda env:base] *",
   "language": "python",
   "name": "conda-base-py"
  },
  "language_info": {
   "codemirror_mode": {
    "name": "ipython",
    "version": 3
   },
   "file_extension": ".py",
   "mimetype": "text/x-python",
   "name": "python",
   "nbconvert_exporter": "python",
   "pygments_lexer": "ipython3",
   "version": "3.12.3"
  }
 },
 "nbformat": 4,
 "nbformat_minor": 5
}
